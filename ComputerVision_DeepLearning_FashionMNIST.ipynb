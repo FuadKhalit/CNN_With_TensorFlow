{
  "nbformat": 4,
  "nbformat_minor": 0,
  "metadata": {
    "colab": {
      "name": "ComputerVision_DeepLearning_FashionMNIST.ipynb",
      "provenance": [],
      "authorship_tag": "ABX9TyNfM62vKJ/QRfyK6vO8pmH3"
    },
    "kernelspec": {
      "name": "python3",
      "display_name": "Python 3"
    }
  },
  "cells": [
    {
      "cell_type": "code",
      "metadata": {
        "id": "dPxWT35mviqu",
        "colab_type": "code",
        "colab": {
          "base_uri": "https://localhost:8080/",
          "height": 34
        },
        "outputId": "4d8bab35-047b-446e-f22e-c8006c95ade7"
      },
      "source": [
        "import tensorflow as tf\n",
        "print(tf.__version__)"
      ],
      "execution_count": null,
      "outputs": [
        {
          "output_type": "stream",
          "text": [
            "2.2.0\n"
          ],
          "name": "stdout"
        }
      ]
    },
    {
      "cell_type": "code",
      "metadata": {
        "id": "6JlmxeYPwk2_",
        "colab_type": "code",
        "colab": {}
      },
      "source": [
        "mnist = tf.keras.datasets.fashion_mnist"
      ],
      "execution_count": null,
      "outputs": []
    },
    {
      "cell_type": "code",
      "metadata": {
        "id": "SuRBd64Owrr3",
        "colab_type": "code",
        "colab": {
          "base_uri": "https://localhost:8080/",
          "height": 151
        },
        "outputId": "7ec2023b-925f-4ac3-efab-67f2f7979e04"
      },
      "source": [
        "(training_images, training_labels), (test_images, test_labels) = mnist.load_data()"
      ],
      "execution_count": null,
      "outputs": [
        {
          "output_type": "stream",
          "text": [
            "Downloading data from https://storage.googleapis.com/tensorflow/tf-keras-datasets/train-labels-idx1-ubyte.gz\n",
            "32768/29515 [=================================] - 0s 0us/step\n",
            "Downloading data from https://storage.googleapis.com/tensorflow/tf-keras-datasets/train-images-idx3-ubyte.gz\n",
            "26427392/26421880 [==============================] - 0s 0us/step\n",
            "Downloading data from https://storage.googleapis.com/tensorflow/tf-keras-datasets/t10k-labels-idx1-ubyte.gz\n",
            "8192/5148 [===============================================] - 0s 0us/step\n",
            "Downloading data from https://storage.googleapis.com/tensorflow/tf-keras-datasets/t10k-images-idx3-ubyte.gz\n",
            "4423680/4422102 [==============================] - 0s 0us/step\n"
          ],
          "name": "stdout"
        }
      ]
    },
    {
      "cell_type": "markdown",
      "metadata": {
        "id": "rz47QGl_DI0l",
        "colab_type": "text"
      },
      "source": [
        "change the index, to see what the machine see"
      ]
    },
    {
      "cell_type": "code",
      "metadata": {
        "id": "mugwthNcxEsS",
        "colab_type": "code",
        "colab": {
          "base_uri": "https://localhost:8080/",
          "height": 1000
        },
        "outputId": "b86e006c-48e7-4696-c1dd-cb382654f0d1"
      },
      "source": [
        "import numpy as np\n",
        "np.set_printoptions(linewidth=200)\n",
        "import matplotlib.pyplot as plt\n",
        "plt.imshow(training_images[43])\n",
        "print(training_labels[43])\n",
        "print(training_images[43])"
      ],
      "execution_count": 11,
      "outputs": [
        {
          "output_type": "stream",
          "text": [
            "5\n",
            "[[0.         0.         0.         0.         0.         0.         0.         0.         0.         0.         0.         0.         0.         0.         0.         0.         0.\n",
            "  0.         0.         0.         0.         0.         0.         0.         0.         0.         0.         0.        ]\n",
            " [0.         0.         0.         0.         0.         0.         0.         0.         0.         0.         0.         0.         0.         0.         0.         0.         0.\n",
            "  0.         0.         0.         0.         0.         0.         0.         0.         0.         0.         0.        ]\n",
            " [0.         0.         0.         0.         0.         0.         0.         0.         0.         0.         0.         0.         0.         0.         0.         0.         0.\n",
            "  0.         0.         0.         0.         0.         0.         0.         0.         0.         0.         0.        ]\n",
            " [0.         0.         0.         0.         0.         0.         0.         0.         0.         0.         0.         0.         0.         0.         0.         0.         0.\n",
            "  0.         0.         0.         0.         0.         0.         0.         0.         0.         0.         0.        ]\n",
            " [0.         0.         0.         0.         0.         0.         0.         0.         0.         0.         0.         0.         0.         0.         0.         0.         0.\n",
            "  0.         0.         0.         0.         0.         0.         0.         0.         0.         0.         0.        ]\n",
            " [0.         0.         0.         0.         0.         0.         0.         0.         0.         0.         0.         0.         0.         0.         0.         0.         0.\n",
            "  0.         0.         0.         0.         0.         0.         0.         0.         0.         0.         0.        ]\n",
            " [0.         0.         0.         0.         0.         0.         0.         0.         0.         0.         0.         0.         0.         0.         0.         0.         0.\n",
            "  0.         0.         0.         0.         0.         0.         0.         0.         0.         0.         0.        ]\n",
            " [0.         0.         0.         0.         0.         0.         0.         0.         0.         0.         0.         0.         0.         0.         0.         0.         0.\n",
            "  0.         0.         0.         0.         0.         0.         0.         0.         0.         0.         0.        ]\n",
            " [0.         0.         0.         0.         0.         0.         0.         0.         0.         0.         0.         0.00784314 0.         0.         0.22352941 0.15686275 0.\n",
            "  0.         0.         0.         0.         0.00392157 0.         0.         0.01176471 0.01568627 0.         0.        ]\n",
            " [0.         0.         0.         0.         0.         0.         0.         0.         0.         0.         0.01176471 0.         0.         0.27058824 0.65490196 0.62352941 0.31372549\n",
            "  0.         0.         0.01568627 0.02352941 0.01568627 0.02745098 0.         0.         0.         0.         0.        ]\n",
            " [0.         0.         0.         0.         0.         0.         0.         0.         0.         0.         0.         0.         0.49803922 0.61176471 0.48235294 0.63137255 0.68235294\n",
            "  0.61176471 0.         0.         0.         0.         0.         0.         0.19607843 0.42352941 0.58431373 0.25098039]\n",
            " [0.         0.         0.         0.         0.         0.         0.         0.         0.02352941 0.         0.21176471 0.82352941 0.51764706 0.47058824 0.7254902  0.49411765 0.34901961\n",
            "  0.6745098  0.72941176 0.43529412 0.34901961 0.30980392 0.48235294 0.57647059 0.52941176 0.50196078 0.49019608 0.4       ]\n",
            " [0.         0.         0.00392157 0.         0.00392157 0.00784314 0.01568627 0.         0.         0.         0.61176471 0.7254902  0.         0.08235294 0.70196078 0.72941176 0.44705882\n",
            "  0.32156863 0.4745098  0.6        0.59215686 0.59607843 0.50588235 0.50588235 0.4745098  0.45490196 0.2745098  0.        ]\n",
            " [0.         0.         0.         0.         0.         0.         0.         0.         0.         0.28235294 0.67843137 0.63529412 0.         0.         0.         0.08627451 0.6745098\n",
            "  0.59215686 0.35294118 0.41176471 0.43137255 0.49803922 0.58823529 0.4745098  0.21568627 0.         0.         0.        ]\n",
            " [0.00392157 0.01176471 0.00784314 0.         0.         0.03921569 0.30588235 0.56470588 0.69803922 0.78039216 0.67843137 0.66666667 0.         0.         0.         0.         0.\n",
            "  0.56078431 0.70588235 0.49019608 0.5372549  0.61176471 0.16470588 0.         0.         0.         0.         0.00392157]\n",
            " [0.         0.         0.         0.         0.42745098 0.6627451  0.57647059 0.48235294 0.40392157 0.58823529 0.78431373 0.74509804 0.         0.         0.00392157 0.         0.\n",
            "  0.         0.29019608 0.48235294 0.45882353 0.38039216 0.         0.         0.00392157 0.         0.         0.        ]\n",
            " [0.         0.0627451  0.09803922 0.         0.47058824 0.50588235 0.42352941 0.49803922 0.43529412 0.32941176 0.55294118 0.89803922 0.         0.         0.         0.         0.2\n",
            "  0.33333333 0.41960784 0.45882353 0.38431373 0.49019608 0.50196078 0.55294118 0.54117647 0.47058824 0.36470588 0.        ]\n",
            " [0.56862745 0.63137255 0.4745098  0.58823529 0.49411765 0.44705882 0.49019608 0.46666667 0.45882353 0.49411765 0.29803922 0.69019608 0.29019608 0.29803922 0.56862745 0.61568627 0.5372549\n",
            "  0.47058824 0.54509804 0.57647059 0.6        0.63921569 0.57647059 0.56078431 0.54901961 0.54117647 0.66666667 0.32156863]\n",
            " [0.21960784 0.75686275 0.78431373 0.70588235 0.61176471 0.51764706 0.4        0.33333333 0.35294118 0.38431373 0.36470588 0.30588235 0.6745098  0.58823529 0.49019608 0.51372549 0.65490196\n",
            "  0.77254902 0.86666667 0.89019608 0.85490196 0.81960784 0.81568627 0.78431373 0.74901961 0.70196078 0.77647059 0.16862745]\n",
            " [0.         0.         0.31764706 0.70196078 0.9372549  0.99607843 0.96470588 0.94901961 0.84313725 0.78431373 0.72941176 0.77647059 0.78431373 0.72941176 0.8        0.81960784 0.96470588\n",
            "  0.89411765 0.83137255 0.84313725 0.93333333 0.90980392 0.84705882 0.83921569 0.79607843 0.69803922 0.90196078 0.16470588]\n",
            " [0.         0.         0.         0.         0.         0.         0.19607843 0.38431373 0.39607843 0.62352941 0.59607843 0.4745098  0.52941176 0.37647059 0.19607843 0.         0.\n",
            "  0.         0.         0.         0.12941176 0.2745098  0.37647059 0.41960784 0.41960784 0.34901961 0.16470588 0.        ]\n",
            " [0.         0.         0.         0.         0.         0.         0.         0.         0.         0.         0.         0.         0.         0.         0.         0.         0.\n",
            "  0.         0.         0.         0.         0.         0.         0.         0.         0.         0.         0.        ]\n",
            " [0.         0.         0.         0.         0.         0.         0.         0.         0.         0.         0.         0.         0.         0.         0.         0.         0.\n",
            "  0.         0.         0.         0.         0.         0.         0.         0.         0.         0.         0.        ]\n",
            " [0.         0.         0.         0.         0.         0.         0.         0.         0.         0.         0.         0.         0.         0.         0.         0.         0.\n",
            "  0.         0.         0.         0.         0.         0.         0.         0.         0.         0.         0.        ]\n",
            " [0.         0.         0.         0.         0.         0.         0.         0.         0.         0.         0.         0.         0.         0.         0.         0.         0.\n",
            "  0.         0.         0.         0.         0.         0.         0.         0.         0.         0.         0.        ]\n",
            " [0.         0.         0.         0.         0.         0.         0.         0.         0.         0.         0.         0.         0.         0.         0.         0.         0.\n",
            "  0.         0.         0.         0.         0.         0.         0.         0.         0.         0.         0.        ]\n",
            " [0.         0.         0.         0.         0.         0.         0.         0.         0.         0.         0.         0.         0.         0.         0.         0.         0.\n",
            "  0.         0.         0.         0.         0.         0.         0.         0.         0.         0.         0.        ]\n",
            " [0.         0.         0.         0.         0.         0.         0.         0.         0.         0.         0.         0.         0.         0.         0.         0.         0.\n",
            "  0.         0.         0.         0.         0.         0.         0.         0.         0.         0.         0.        ]]\n"
          ],
          "name": "stdout"
        },
        {
          "output_type": "display_data",
          "data": {
            "image/png": "[encoded data removed]",
            "text/plain": [
              "<Figure size 432x288 with 1 Axes>"
            ]
          },
          "metadata": {
            "tags": [],
            "needs_background": "light"
          }
        }
      ]
    },
    {
      "cell_type": "code",
      "metadata": {
        "id": "PVe5ED9mxROY",
        "colab_type": "code",
        "colab": {}
      },
      "source": [
        "training_images  = training_images / 255.0\n",
        "test_images = test_images / 255.0"
      ],
      "execution_count": null,
      "outputs": []
    },
    {
      "cell_type": "code",
      "metadata": {
        "id": "x14imTXGxbqv",
        "colab_type": "code",
        "colab": {}
      },
      "source": [
        "model = tf.keras.models.Sequential([tf.keras.layers.Flatten(), \n",
        "                                    tf.keras.layers.Dense(128, activation=tf.nn.relu), \n",
        "                                    tf.keras.layers.Dense(10, activation=tf.nn.softmax)])"
      ],
      "execution_count": null,
      "outputs": []
    },
    {
      "cell_type": "markdown",
      "metadata": {
        "id": "Qpl8ZM5MCahU",
        "colab_type": "text"
      },
      "source": [
        "change epoch to increase accuracy"
      ]
    },
    {
      "cell_type": "code",
      "metadata": {
        "id": "a7II6iIRxgCu",
        "colab_type": "code",
        "colab": {
          "base_uri": "https://localhost:8080/",
          "height": 202
        },
        "outputId": "60d095c1-2394-4cea-ca9f-db95c2e09acb"
      },
      "source": [
        "model.compile(optimizer = tf.optimizers.Adam(),\n",
        "              loss = 'sparse_categorical_crossentropy',\n",
        "              metrics=['accuracy'])\n",
        "\n",
        "model.fit(training_images, training_labels, epochs=5)"
      ],
      "execution_count": null,
      "outputs": [
        {
          "output_type": "stream",
          "text": [
            "Epoch 1/5\n",
            "1875/1875 [==============================] - 3s 2ms/step - loss: 0.4956 - accuracy: 0.8260\n",
            "Epoch 2/5\n",
            "1875/1875 [==============================] - 3s 2ms/step - loss: 0.3733 - accuracy: 0.8660\n",
            "Epoch 3/5\n",
            "1875/1875 [==============================] - 3s 2ms/step - loss: 0.3374 - accuracy: 0.8767\n",
            "Epoch 4/5\n",
            "1875/1875 [==============================] - 3s 2ms/step - loss: 0.3117 - accuracy: 0.8856\n",
            "Epoch 5/5\n",
            "1875/1875 [==============================] - 3s 2ms/step - loss: 0.2957 - accuracy: 0.8911\n"
          ],
          "name": "stdout"
        },
        {
          "output_type": "execute_result",
          "data": {
            "text/plain": [
              "<tensorflow.python.keras.callbacks.History at 0x7f158f1806d8>"
            ]
          },
          "metadata": {
            "tags": []
          },
          "execution_count": 7
        }
      ]
    },
    {
      "cell_type": "code",
      "metadata": {
        "id": "RyFbficExrCg",
        "colab_type": "code",
        "colab": {
          "base_uri": "https://localhost:8080/",
          "height": 50
        },
        "outputId": "20887250-0726-4651-abd5-15de3ba26a8a"
      },
      "source": [
        "model.evaluate(test_images, test_labels)"
      ],
      "execution_count": null,
      "outputs": [
        {
          "output_type": "stream",
          "text": [
            "313/313 [==============================] - 0s 1ms/step - loss: 0.3407 - accuracy: 0.8776\n"
          ],
          "name": "stdout"
        },
        {
          "output_type": "execute_result",
          "data": {
            "text/plain": [
              "[0.34073030948638916, 0.8776000142097473]"
            ]
          },
          "metadata": {
            "tags": []
          },
          "execution_count": 8
        }
      ]
    }
  ]
}